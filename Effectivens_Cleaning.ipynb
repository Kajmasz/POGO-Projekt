{
 "cells": [
  {
   "cell_type": "code",
   "execution_count": 7,
   "metadata": {},
   "outputs": [],
   "source": [
    "import pandas as pd\n",
    "\n",
    "# Data for the table\n",
    "data = [\n",
    "    {\"Weather\": \"Clear\", \"Boosted Pokémon Type\": \"Grass\", \"Damage Bonus\": \"+20%\"},\n",
    "    {\"Weather\": \"Clear\", \"Boosted Pokémon Type\": \"Ground\", \"Damage Bonus\": \"+20%\"},\n",
    "    {\"Weather\": \"Clear\", \"Boosted Pokémon Type\": \"Fire\", \"Damage Bonus\": \"+20%\"},\n",
    "    {\"Weather\": \"Partly Cloudy\", \"Boosted Pokémon Type\": \"Normal\", \"Damage Bonus\": \"+20%\"},\n",
    "    {\"Weather\": \"Partly Cloudy\", \"Boosted Pokémon Type\": \"Rock\", \"Damage Bonus\": \"+20%\"},\n",
    "    {\"Weather\": \"Cloudy\", \"Boosted Pokémon Type\": \"Fairy\", \"Damage Bonus\": \"+20%\"},\n",
    "    {\"Weather\": \"Cloudy\", \"Boosted Pokémon Type\": \"Fighting\", \"Damage Bonus\": \"+20%\"},\n",
    "    {\"Weather\": \"Cloudy\", \"Boosted Pokémon Type\": \"Poison\", \"Damage Bonus\": \"+20%\"},\n",
    "    {\"Weather\": \"Rainy\", \"Boosted Pokémon Type\": \"Water\", \"Damage Bonus\": \"+20%\"},\n",
    "    {\"Weather\": \"Rainy\", \"Boosted Pokémon Type\": \"Electric\", \"Damage Bonus\": \"+20%\"},\n",
    "    {\"Weather\": \"Rainy\", \"Boosted Pokémon Type\": \"Bug\", \"Damage Bonus\": \"+20%\"},\n",
    "    {\"Weather\": \"Fog\", \"Boosted Pokémon Type\": \"Dark\", \"Damage Bonus\": \"+20%\"},\n",
    "    {\"Weather\": \"Fog\", \"Boosted Pokémon Type\": \"Ghost\", \"Damage Bonus\": \"+20%\"},\n",
    "    {\"Weather\": \"Windy\", \"Boosted Pokémon Type\": \"Dragon\", \"Damage Bonus\": \"+20%\"},\n",
    "    {\"Weather\": \"Windy\", \"Boosted Pokémon Type\": \"Flying\", \"Damage Bonus\": \"+20%\"},\n",
    "    {\"Weather\": \"Windy\", \"Boosted Pokémon Type\": \"Psychic\", \"Damage Bonus\": \"+20%\"},\n",
    "    {\"Weather\": \"Snow\", \"Boosted Pokémon Type\": \"Ice\", \"Damage Bonus\": \"+20%\"},\n",
    "    {\"Weather\": \"Snow\", \"Boosted Pokémon Type\": \"Steel\", \"Damage Bonus\": \"+20%\"},\n",
    "]\n",
    "\n"
   ]
  },
  {
   "cell_type": "code",
   "execution_count": 8,
   "metadata": {},
   "outputs": [],
   "source": [
    "# Create a DataFrame\n",
    "df = pd.DataFrame(data)"
   ]
  },
  {
   "cell_type": "code",
   "execution_count": 9,
   "metadata": {},
   "outputs": [],
   "source": [
    "df.drop(columns=[\"Damage Bonus\"],inplace=True)"
   ]
  },
  {
   "cell_type": "code",
   "execution_count": 10,
   "metadata": {},
   "outputs": [],
   "source": [
    "# Save the DataFrame as a CSV file\n",
    "csv_file_path = \"POGO_weather_damage_bonuses.csv\"\n",
    "df.to_csv(csv_file_path, index=False)"
   ]
  }
 ],
 "metadata": {
  "kernelspec": {
   "display_name": "base",
   "language": "python",
   "name": "python3"
  },
  "language_info": {
   "codemirror_mode": {
    "name": "ipython",
    "version": 3
   },
   "file_extension": ".py",
   "mimetype": "text/x-python",
   "name": "python",
   "nbconvert_exporter": "python",
   "pygments_lexer": "ipython3",
   "version": "3.12.7"
  }
 },
 "nbformat": 4,
 "nbformat_minor": 2
}
